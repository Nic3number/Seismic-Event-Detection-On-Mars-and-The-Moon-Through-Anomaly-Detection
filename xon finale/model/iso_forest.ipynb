{
 "cells": [
  {
   "cell_type": "code",
   "execution_count": 1,
   "id": "95a4ea69-3ad5-4314-88f6-89611c17569a",
   "metadata": {},
   "outputs": [],
   "source": [
    "import pandas as pd\n",
    "import numpy as np\n",
    "from sklearn.ensemble import IsolationForest"
   ]
  },
  {
   "cell_type": "code",
   "execution_count": null,
   "id": "3994e15c-e802-4bbf-bc30-266a5e025dfd",
   "metadata": {},
   "outputs": [],
   "source": [
    "train_data = pd.read_csv(\"xa.s12.00.mhz.1970-03-26HR00_evid00004_fft_cleaned.csv\")\n",
    "\n",
    "## rel_time(sec) in Mars Datasets\n",
    "\n",
    "X_train = train_data.drop(columns=['time_abs(%Y-%m-%dT%H:%M:%S.%f)', 'time_rel(sec)', 'label', 'weight'], errors='ignore')\n",
    "\n",
    "model = IsolationForest(contamination=0.0015, random_state=42)  # contamination value is important\n",
    "model.fit(X_train)\n",
    "\n",
    "# unlabeled test data\n",
    "test_data = pd.read_csv(\"testxa.s12.00.mhz.1969-12-16HR00_evid00006_fft_cleaned.csv\")\n",
    "\n",
    "X_test = test_data.drop(columns=['time_abs(%Y-%m-%dT%H:%M:%S.%f)', 'time_rel(sec)'], errors='ignore')\n",
    "\n",
    "anomaly_predictions = model.predict(X_test)\n",
    "\n",
    "test_data['anomaly'] = np.where(anomaly_predictions == -1, 1, 0)  # -1 anomaly, 1 normal\n",
    "\n",
    "anomalies = test_data[test_data['anomaly'] == 1]  \n",
    "\n",
    "if not anomalies.empty:\n",
    "    anomalies_rel_time = anomalies[['time_rel(sec)', 'anomaly']]  ## rel_time(sec) in Mars Datasets \n",
    "    anomalies_rel_time = anomalies_rel_time.reset_index(drop=True)\n",
    "\n",
    "    # saving anomalies in a csv file\n",
    "    anomalies_rel_time.to_csv('anomalies_rel_time_test.csv', index=False)\n",
    "\n",
    "    print(f\"Total number of points with anomaly detection: {len(anomalies)}\")\n",
    "    print(\"Rel_time values ​​of anomaly points:\")\n",
    "    print(anomalies_rel_time)\n",
    "else:\n",
    "    print(\"No anomaly detected.\")\n"
   ]
  },
  {
   "cell_type": "code",
   "execution_count": null,
   "id": "faf1ec9b-34b9-4e10-bcfe-72bce516a428",
   "metadata": {},
   "outputs": [],
   "source": []
  }
 ],
 "metadata": {
  "kernelspec": {
   "display_name": "Python 3 (ipykernel)",
   "language": "python",
   "name": "python3"
  },
  "language_info": {
   "codemirror_mode": {
    "name": "ipython",
    "version": 3
   },
   "file_extension": ".py",
   "mimetype": "text/x-python",
   "name": "python",
   "nbconvert_exporter": "python",
   "pygments_lexer": "ipython3",
   "version": "3.10.9"
  }
 },
 "nbformat": 4,
 "nbformat_minor": 5
}
