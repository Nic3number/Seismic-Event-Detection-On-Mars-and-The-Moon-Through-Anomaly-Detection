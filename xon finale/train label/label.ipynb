{
 "cells": [
  {
   "cell_type": "code",
   "execution_count": null,
   "id": "54b7b23d-bdca-4588-965d-696be7f0736c",
   "metadata": {},
   "outputs": [],
   "source": [
    "import pandas as pd\n",
    "import numpy as np"
   ]
  },
  {
   "cell_type": "code",
   "execution_count": null,
   "id": "b1257ab7-94d0-4867-a737-956e40191441",
   "metadata": {},
   "outputs": [],
   "source": [
    "catalog = pd.read_csv('apollo12_catalog_GradeA_final.csv')\n",
    "\n",
    "for index, row in catalog.iterrows():\n",
    "    file_name = row['filename']\n",
    "    activation_start = row['time_rel(sec)'] \n",
    "\n",
    "    df = pd.read_csv(file_name + '.csv')\n",
    "        \n",
    "    if activation_start in df['time_rel(sec)'].values:\n",
    "        df['label'] = np.where(df['time_rel(sec)'] == activation_start, 1, 0)\n",
    "    else:\n",
    "       \n",
    "        closest_index = (np.abs(df['time_rel(sec)'] - activation_start)).argmin()\n",
    "        closest_time = df['time_rel(sec)'].iloc[closest_index]\n",
    "        \n",
    "        df['label'] = 0\n",
    "        df.loc[df['time_rel(sec)'] == closest_time, 'label'] = 1\n",
    "\n",
    "    n_samples = len(df)\n",
    "    n_positives = df['label'].sum()  \n",
    "    n_negatives = n_samples - n_positives  \n",
    "\n",
    "    weight_for_0 = n_samples / n_negatives  \n",
    "    weight_for_1 = n_samples / n_positives  \n",
    "\n",
    "    \n",
    "    df['weight'] = np.where(df['label'] == 1, weight_for_1, weight_for_0)\n",
    "\n",
    "    df.to_csv(file_name + '.csv', index=False)\n"
   ]
  }
 ],
 "metadata": {
  "kernelspec": {
   "display_name": "Python 3 (ipykernel)",
   "language": "python",
   "name": "python3"
  },
  "language_info": {
   "codemirror_mode": {
    "name": "ipython",
    "version": 3
   },
   "file_extension": ".py",
   "mimetype": "text/x-python",
   "name": "python",
   "nbconvert_exporter": "python",
   "pygments_lexer": "ipython3",
   "version": "3.10.9"
  }
 },
 "nbformat": 4,
 "nbformat_minor": 5
}
