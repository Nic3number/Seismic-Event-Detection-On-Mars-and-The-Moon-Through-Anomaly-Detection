{
 "cells": [
  {
   "cell_type": "code",
   "execution_count": 1,
   "id": "f469154f-e88a-4dd6-b0a5-0d3d937f0e1c",
   "metadata": {},
   "outputs": [],
   "source": [
    "import numpy as np\n",
    "import pandas as pd\n",
    "import pywt"
   ]
  },
  {
   "cell_type": "code",
   "execution_count": null,
   "id": "38e807f4-bf35-4312-a253-ac8aa7d001d7",
   "metadata": {},
   "outputs": [],
   "source": [
    "csv_file = 'xa.s12.00.mhz.1970-06-26HR00_evid00009.csv'  \n",
    "df = pd.read_csv(csv_file)\n",
    "\n",
    "rel_time = df['time_rel(sec)']  # relative times\n",
    "velocity = df['velocity(m/s)']  # velocity\n",
    "\n",
    "# sampling rate\n",
    "fs = 1 / rel_time.diff().mean() \n",
    "\n",
    "# Wavelet Denoising Function\n",
    "def wavelet_denoise(signal, wavelet='db8', level=2):\n",
    "    coeff = pywt.wavedec(signal, wavelet, mode='per', level=level)\n",
    "    # Resetting the details of the transformation coefficients (noise)\n",
    "    coeff[1:] = [np.zeros_like(c) for c in coeff[1:]]\n",
    "    reconstructed_signal = pywt.waverec(coeff, wavelet, mode='per')\n",
    "    \n",
    "    # Equalize length with original signal\n",
    "    if len(reconstructed_signal) > len(signal):\n",
    "        reconstructed_signal = reconstructed_signal[:len(signal)]\n",
    "    elif len(reconstructed_signal) < len(signal):\n",
    "        reconstructed_signal = np.pad(reconstructed_signal, (0, len(signal) - len(reconstructed_signal)), 'constant')\n",
    "    \n",
    "    return reconstructed_signal\n",
    "\n",
    "# power spectrum calculation\n",
    "def compute_power_spectrum(signal, fs):\n",
    "    # FFT'yi hesapla\n",
    "    fft_values = np.fft.fft(signal)\n",
    "    power_spectrum = np.abs(fft_values) ** 2\n",
    "    freq = np.fft.fftfreq(len(signal), 1/fs)\n",
    "    return freq[:len(freq)//2], power_spectrum[:len(power_spectrum)//2]  # Pozitif frekanslar\n",
    "\n",
    "# apply filter\n",
    "denoised_velocity = wavelet_denoise(velocity, wavelet='db8', level=2)\n",
    "\n",
    "freqs, power_spectrum = compute_power_spectrum(denoised_velocity, fs)\n",
    "\n",
    "# adding spectrum values to dataframe\n",
    "df['fft_freqs(Hz)'] = pd.Series(freqs[:len(df)])  # Frekanslar\n",
    "df['power_spectrum'] = pd.Series(power_spectrum[:len(df)])  # Güç spektrumu değerleri\n",
    "\n",
    "# saving as a csv file\n",
    "output_csv = 'p.csv'\n",
    "df.to_csv(output_csv, index=False)"
   ]
  }
 ],
 "metadata": {
  "kernelspec": {
   "display_name": "Python 3 (ipykernel)",
   "language": "python",
   "name": "python3"
  },
  "language_info": {
   "codemirror_mode": {
    "name": "ipython",
    "version": 3
   },
   "file_extension": ".py",
   "mimetype": "text/x-python",
   "name": "python",
   "nbconvert_exporter": "python",
   "pygments_lexer": "ipython3",
   "version": "3.10.9"
  }
 },
 "nbformat": 4,
 "nbformat_minor": 5
}
