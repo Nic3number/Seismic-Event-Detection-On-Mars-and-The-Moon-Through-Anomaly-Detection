{
 "cells": [
  {
   "cell_type": "code",
   "execution_count": 2,
   "id": "f390f166-b1f8-41e5-a4d9-9a8135c81fde",
   "metadata": {},
   "outputs": [],
   "source": [
    "import pandas as pd\n",
    "import numpy as np"
   ]
  },
  {
   "cell_type": "code",
   "execution_count": null,
   "id": "109e7282-b599-4c33-8d5c-1ea4dedaf1fc",
   "metadata": {},
   "outputs": [],
   "source": [
    "# read CSV files \n",
    "mars_df = pd.read_csv(\"XB.ELYSE.02.BHV.2022-01-02HR04_evid0006.csv\")\n",
    "madata = mars_df.copy()\n",
    "\n",
    "# fourier transform\n",
    "fft_values = np.fft.fft(madata['velocity(c/s)'])  # Fourier dönüşümü\n",
    "freqs = np.fft.fftfreq(len(fft_values), d=(madata['rel_time(sec)'].diff().mean()))  # Frekanslar\n",
    "\n",
    "# amplitude spectrum \n",
    "amplitude_spectrum = np.abs(fft_values)\n",
    "\n",
    "# power spectrum \n",
    "power_spectrum = amplitude_spectrum ** 2\n",
    "\n",
    "# add fourier transform results to a dataframe\n",
    "madata['freqs'] = freqs  # frequency values\n",
    "madata['amplitude_spectrum'] = amplitude_spectrum  # amplitude spectrum\n",
    "madata['power_spectrum'] = power_spectrum  # power spectrum\n",
    "\n",
    "# save new dataframe to a csv file\n",
    "output_csv = \"XB.ELYSE.02.BHV.2022-01-02HR04_evid0006_fft_cleaned.csv\"\n",
    "madata.to_csv(output_csv, index=False)\n",
    "\n",
    "print(f\"csv saved as '{output_csv}'.\")"
   ]
  }
 ],
 "metadata": {
  "kernelspec": {
   "display_name": "Python 3 (ipykernel)",
   "language": "python",
   "name": "python3"
  },
  "language_info": {
   "codemirror_mode": {
    "name": "ipython",
    "version": 3
   },
   "file_extension": ".py",
   "mimetype": "text/x-python",
   "name": "python",
   "nbconvert_exporter": "python",
   "pygments_lexer": "ipython3",
   "version": "3.10.9"
  }
 },
 "nbformat": 4,
 "nbformat_minor": 5
}
